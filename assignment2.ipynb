{
 "cells": [
  {
   "cell_type": "code",
   "execution_count": 1,
   "metadata": {
    "collapsed": true
   },
   "outputs": [],
   "source": [
    "from __future__ import print_function\n",
    "import numpy as np\n",
    "import tensorflow as tf\n",
    "from six.moves import cPickle as pickle\n",
    "from six.moves import range"
   ]
  },
  {
   "cell_type": "code",
   "execution_count": 2,
   "metadata": {},
   "outputs": [
    {
     "name": "stdout",
     "output_type": "stream",
     "text": [
      "Training set (500000, 28, 28) (500000,)\n",
      "Validation set (20000, 28, 28) (20000,)\n",
      "Test set (10000, 28, 28) (10000,)\n"
     ]
    }
   ],
   "source": [
    "pickle_file = '/home/big_muscle/data/notMNIST.pickle'\n",
    "\n",
    "with open(pickle_file, 'rb') as f:\n",
    "  save = pickle.load(f)\n",
    "  train_dataset = save['train_dataset']\n",
    "  train_labels = save['train_labels']\n",
    "  valid_dataset = save['valid_dataset']\n",
    "  valid_labels = save['valid_labels']\n",
    "  test_dataset = save['test_dataset']\n",
    "  test_labels = save['test_labels']\n",
    "  del save  # hint to help gc free up memory\n",
    "  print('Training set', train_dataset.shape, train_labels.shape)\n",
    "  print('Validation set', valid_dataset.shape, valid_labels.shape)\n",
    "  print('Test set', test_dataset.shape, test_labels.shape)"
   ]
  },
  {
   "cell_type": "code",
   "execution_count": 3,
   "metadata": {},
   "outputs": [
    {
     "name": "stdout",
     "output_type": "stream",
     "text": [
      "Training set (500000, 784) (500000, 10)\n",
      "Validation set (20000, 784) (20000, 10)\n",
      "Test set (10000, 784) (10000, 10)\n"
     ]
    }
   ],
   "source": [
    "image_size = 28\n",
    "num_labels = 10\n",
    "\n",
    "def reformat(dataset, labels):\n",
    "    \"\"\"\n",
    "    这个函数需要把三维的图片变成一个二维矩阵，同时把标签也排好。\n",
    "    \"\"\"\n",
    "    dataset = dataset.reshape((-1, image_size * image_size)).astype(np.float32) \n",
    "    # This -1 means the length of the \"dataset\" array.\n",
    "    labels = (np.arange(num_labels) == labels[:,None]).astype(np.float32)\n",
    "    # 原始数据的label是 0~9 的是个数字，50000*1的矩阵， 现在变为50000*10的矩阵。\n",
    "    return dataset, labels\n",
    "train_dataset, train_labels = reformat(train_dataset, train_labels)\n",
    "valid_dataset, valid_labels = reformat(valid_dataset, valid_labels)\n",
    "test_dataset, test_labels = reformat(test_dataset, test_labels)\n",
    "print('Training set', train_dataset.shape, train_labels.shape)\n",
    "print('Validation set', valid_dataset.shape, valid_labels.shape)\n",
    "print('Test set', test_dataset.shape, test_labels.shape)"
   ]
  },
  {
   "cell_type": "markdown",
   "metadata": {},
   "source": [
    "第一步\n",
    "把输入数据，变量，计算方法，描述出来\n",
    "然后在显卡上跑上述的数据，接着显示出来。"
   ]
  },
  {
   "cell_type": "code",
   "execution_count": 4,
   "metadata": {
    "collapsed": true
   },
   "outputs": [],
   "source": [
    "train_subset = 10000\n",
    "\n",
    "graph = tf.Graph()\n",
    "with graph.as_default():\n",
    "\n",
    "  # Input data.\n",
    "  # Load the training, validation and test data into constants that are\n",
    "  # attached to the graph.\n",
    "  tf_train_dataset = tf.constant(train_dataset[:train_subset, :])\n",
    "  tf_train_labels = tf.constant(train_labels[:train_subset])\n",
    "  tf_valid_dataset = tf.constant(valid_dataset)\n",
    "  tf_test_dataset = tf.constant(test_dataset)\n",
    "  \n",
    "  # Variables.\n",
    "  # These are the parameters that we are going to be training. The weight\n",
    "  # matrix will be initialized using random values following a (truncated)\n",
    "  # normal distribution. The biases get initialized to zero.\n",
    "  weights = tf.Variable(\n",
    "    tf.truncated_normal([image_size * image_size, num_labels]))\n",
    "  biases = tf.Variable(tf.zeros([num_labels]))\n",
    "  # bias初始化是0.\n",
    "  # Training computation.\n",
    "  # We multiply the inputs with the weight matrix, and add biases. We compute\n",
    "  # the softmax and cross-entropy (it's one operation in TensorFlow, because\n",
    "  # it's very common, and it can be optimized). We take the average of this\n",
    "  # cross-entropy across all training examples: that's our loss.\n",
    "  logits = tf.matmul(tf_train_dataset, weights) + biases\n",
    "  loss = tf.reduce_mean(\n",
    "    tf.nn.softmax_cross_entropy_with_logits(labels=tf_train_labels, logits=logits))\n",
    "  \n",
    "  # Optimizer.\n",
    "  # We are going to find the minimum of this loss using gradient descent.\n",
    "  optimizer = tf.train.GradientDescentOptimizer(0.5).minimize(loss)\n",
    "  \n",
    "  # Predictions for the training, validation, and test data.\n",
    "  # These are not part of training, but merely here so that we can report\n",
    "  # accuracy figures as we train.\n",
    "  train_prediction = tf.nn.softmax(logits)\n",
    "  valid_prediction = tf.nn.softmax(\n",
    "    tf.matmul(tf_valid_dataset, weights) + biases)\n",
    "  test_prediction = tf.nn.softmax(tf.matmul(tf_test_dataset, weights) + biases)"
   ]
  },
  {
   "cell_type": "code",
   "execution_count": 5,
   "metadata": {},
   "outputs": [
    {
     "name": "stdout",
     "output_type": "stream",
     "text": [
      "Initialized\n",
      "Loss at step 0: 16.563282\n",
      "Training accuracy: 14.9%\n",
      "Validation accuracy: 17.6%\n",
      "Loss at step 100: 2.355880\n",
      "Training accuracy: 72.3%\n",
      "Validation accuracy: 70.5%\n",
      "Loss at step 200: 1.910303\n",
      "Training accuracy: 74.9%\n",
      "Validation accuracy: 72.7%\n",
      "Loss at step 300: 1.658671\n",
      "Training accuracy: 76.1%\n",
      "Validation accuracy: 73.6%\n",
      "Loss at step 400: 1.487458\n",
      "Training accuracy: 76.8%\n",
      "Validation accuracy: 74.1%\n",
      "Loss at step 500: 1.359588\n",
      "Training accuracy: 77.7%\n",
      "Validation accuracy: 74.5%\n",
      "Loss at step 600: 1.259303\n",
      "Training accuracy: 78.4%\n",
      "Validation accuracy: 74.7%\n",
      "Loss at step 700: 1.178150\n",
      "Training accuracy: 79.0%\n",
      "Validation accuracy: 74.9%\n",
      "Loss at step 800: 1.110823\n",
      "Training accuracy: 79.5%\n",
      "Validation accuracy: 75.0%\n",
      "Loss at step 900: 1.053852\n",
      "Training accuracy: 79.9%\n",
      "Validation accuracy: 75.0%\n",
      "Loss at step 1000: 1.004858\n",
      "Training accuracy: 80.2%\n",
      "Validation accuracy: 75.1%\n",
      "Loss at step 1100: 0.962156\n",
      "Training accuracy: 80.5%\n",
      "Validation accuracy: 75.2%\n",
      "Loss at step 1200: 0.924535\n",
      "Training accuracy: 80.9%\n",
      "Validation accuracy: 75.4%\n",
      "Loss at step 1300: 0.891102\n",
      "Training accuracy: 81.1%\n",
      "Validation accuracy: 75.4%\n",
      "Loss at step 1400: 0.861173\n",
      "Training accuracy: 81.4%\n",
      "Validation accuracy: 75.4%\n",
      "Loss at step 1500: 0.834204\n",
      "Training accuracy: 81.7%\n",
      "Validation accuracy: 75.5%\n",
      "Loss at step 1600: 0.809757\n",
      "Training accuracy: 81.8%\n",
      "Validation accuracy: 75.5%\n",
      "Loss at step 1700: 0.787478\n",
      "Training accuracy: 82.0%\n",
      "Validation accuracy: 75.6%\n",
      "Loss at step 1800: 0.767077\n",
      "Training accuracy: 82.2%\n",
      "Validation accuracy: 75.7%\n",
      "Loss at step 1900: 0.748319\n",
      "Training accuracy: 82.4%\n",
      "Validation accuracy: 75.7%\n",
      "Loss at step 2000: 0.731007\n",
      "Training accuracy: 82.6%\n",
      "Validation accuracy: 75.7%\n",
      "Loss at step 2100: 0.714975\n",
      "Training accuracy: 83.0%\n",
      "Validation accuracy: 75.7%\n",
      "Loss at step 2200: 0.700081\n",
      "Training accuracy: 83.3%\n",
      "Validation accuracy: 75.8%\n",
      "Loss at step 2300: 0.686201\n",
      "Training accuracy: 83.4%\n",
      "Validation accuracy: 75.9%\n",
      "Loss at step 2400: 0.673231\n",
      "Training accuracy: 83.6%\n",
      "Validation accuracy: 76.0%\n",
      "Loss at step 2500: 0.661077\n",
      "Training accuracy: 83.7%\n",
      "Validation accuracy: 76.0%\n",
      "Loss at step 2600: 0.649661\n",
      "Training accuracy: 83.9%\n",
      "Validation accuracy: 76.0%\n",
      "Loss at step 2700: 0.638914\n",
      "Training accuracy: 84.1%\n",
      "Validation accuracy: 76.0%\n",
      "Loss at step 2800: 0.628775\n",
      "Training accuracy: 84.3%\n",
      "Validation accuracy: 76.0%\n",
      "Loss at step 2900: 0.619193\n",
      "Training accuracy: 84.5%\n",
      "Validation accuracy: 76.1%\n",
      "Loss at step 3000: 0.610120\n",
      "Training accuracy: 84.6%\n",
      "Validation accuracy: 76.1%\n",
      "Loss at step 3100: 0.601516\n",
      "Training accuracy: 84.8%\n",
      "Validation accuracy: 76.2%\n",
      "Loss at step 3200: 0.593342\n",
      "Training accuracy: 85.1%\n",
      "Validation accuracy: 76.2%\n",
      "Loss at step 3300: 0.585567\n",
      "Training accuracy: 85.2%\n",
      "Validation accuracy: 76.2%\n",
      "Loss at step 3400: 0.578160\n",
      "Training accuracy: 85.3%\n",
      "Validation accuracy: 76.3%\n",
      "Loss at step 3500: 0.571096\n",
      "Training accuracy: 85.4%\n",
      "Validation accuracy: 76.4%\n",
      "Loss at step 3600: 0.564349\n",
      "Training accuracy: 85.6%\n",
      "Validation accuracy: 76.3%\n",
      "Loss at step 3700: 0.557898\n",
      "Training accuracy: 85.8%\n",
      "Validation accuracy: 76.4%\n",
      "Loss at step 3800: 0.551722\n",
      "Training accuracy: 85.9%\n",
      "Validation accuracy: 76.4%\n",
      "Loss at step 3900: 0.545804\n",
      "Training accuracy: 86.0%\n",
      "Validation accuracy: 76.4%\n",
      "Loss at step 4000: 0.540126\n",
      "Training accuracy: 86.2%\n",
      "Validation accuracy: 76.4%\n",
      "Loss at step 4100: 0.534673\n",
      "Training accuracy: 86.3%\n",
      "Validation accuracy: 76.4%\n",
      "Loss at step 4200: 0.529432\n",
      "Training accuracy: 86.4%\n",
      "Validation accuracy: 76.4%\n",
      "Loss at step 4300: 0.524388\n",
      "Training accuracy: 86.6%\n",
      "Validation accuracy: 76.4%\n",
      "Loss at step 4400: 0.519530\n",
      "Training accuracy: 86.7%\n",
      "Validation accuracy: 76.4%\n",
      "Loss at step 4500: 0.514848\n",
      "Training accuracy: 86.7%\n",
      "Validation accuracy: 76.4%\n",
      "Loss at step 4600: 0.510331\n",
      "Training accuracy: 86.9%\n",
      "Validation accuracy: 76.4%\n",
      "Loss at step 4700: 0.505970\n",
      "Training accuracy: 87.0%\n",
      "Validation accuracy: 76.4%\n",
      "Loss at step 4800: 0.501757\n",
      "Training accuracy: 87.0%\n",
      "Validation accuracy: 76.5%\n",
      "Loss at step 4900: 0.497683\n",
      "Training accuracy: 87.1%\n",
      "Validation accuracy: 76.5%\n",
      "Loss at step 5000: 0.493740\n",
      "Training accuracy: 87.2%\n",
      "Validation accuracy: 76.5%\n",
      "Loss at step 5100: 0.489923\n",
      "Training accuracy: 87.3%\n",
      "Validation accuracy: 76.5%\n",
      "Loss at step 5200: 0.486225\n",
      "Training accuracy: 87.4%\n",
      "Validation accuracy: 76.5%\n",
      "Loss at step 5300: 0.482639\n",
      "Training accuracy: 87.4%\n",
      "Validation accuracy: 76.5%\n",
      "Loss at step 5400: 0.479161\n",
      "Training accuracy: 87.5%\n",
      "Validation accuracy: 76.5%\n",
      "Loss at step 5500: 0.475786\n",
      "Training accuracy: 87.6%\n",
      "Validation accuracy: 76.5%\n",
      "Loss at step 5600: 0.472507\n",
      "Training accuracy: 87.7%\n",
      "Validation accuracy: 76.6%\n",
      "Loss at step 5700: 0.469321\n",
      "Training accuracy: 87.8%\n",
      "Validation accuracy: 76.6%\n",
      "Loss at step 5800: 0.466224\n",
      "Training accuracy: 87.8%\n",
      "Validation accuracy: 76.6%\n",
      "Loss at step 5900: 0.463211\n",
      "Training accuracy: 87.8%\n",
      "Validation accuracy: 76.6%\n",
      "Loss at step 6000: 0.460280\n",
      "Training accuracy: 88.0%\n",
      "Validation accuracy: 76.7%\n",
      "Loss at step 6100: 0.457425\n",
      "Training accuracy: 88.1%\n",
      "Validation accuracy: 76.7%\n",
      "Loss at step 6200: 0.454645\n",
      "Training accuracy: 88.2%\n",
      "Validation accuracy: 76.7%\n",
      "Loss at step 6300: 0.451936\n",
      "Training accuracy: 88.3%\n",
      "Validation accuracy: 76.7%\n",
      "Loss at step 6400: 0.449294\n",
      "Training accuracy: 88.3%\n",
      "Validation accuracy: 76.7%\n",
      "Loss at step 6500: 0.446718\n",
      "Training accuracy: 88.5%\n",
      "Validation accuracy: 76.7%\n",
      "Loss at step 6600: 0.444205\n",
      "Training accuracy: 88.5%\n",
      "Validation accuracy: 76.7%\n",
      "Loss at step 6700: 0.441751\n",
      "Training accuracy: 88.5%\n",
      "Validation accuracy: 76.7%\n",
      "Loss at step 6800: 0.439356\n",
      "Training accuracy: 88.6%\n",
      "Validation accuracy: 76.7%\n",
      "Loss at step 6900: 0.437016\n",
      "Training accuracy: 88.7%\n",
      "Validation accuracy: 76.7%\n",
      "Loss at step 7000: 0.434730\n",
      "Training accuracy: 88.7%\n",
      "Validation accuracy: 76.6%\n",
      "Loss at step 7100: 0.432495\n",
      "Training accuracy: 88.8%\n",
      "Validation accuracy: 76.6%\n",
      "Loss at step 7200: 0.430310\n",
      "Training accuracy: 88.9%\n",
      "Validation accuracy: 76.6%\n",
      "Loss at step 7300: 0.428173\n",
      "Training accuracy: 89.0%\n",
      "Validation accuracy: 76.6%\n",
      "Loss at step 7400: 0.426082\n",
      "Training accuracy: 89.1%\n",
      "Validation accuracy: 76.6%\n",
      "Loss at step 7500: 0.424036\n",
      "Training accuracy: 89.1%\n",
      "Validation accuracy: 76.6%\n",
      "Loss at step 7600: 0.422033\n",
      "Training accuracy: 89.2%\n",
      "Validation accuracy: 76.6%\n",
      "Loss at step 7700: 0.420072\n",
      "Training accuracy: 89.2%\n",
      "Validation accuracy: 76.6%\n",
      "Loss at step 7800: 0.418151\n",
      "Training accuracy: 89.3%\n",
      "Validation accuracy: 76.6%\n",
      "Loss at step 7900: 0.416269\n",
      "Training accuracy: 89.4%\n",
      "Validation accuracy: 76.6%\n",
      "Loss at step 8000: 0.414425\n",
      "Training accuracy: 89.4%\n",
      "Validation accuracy: 76.7%\n",
      "Loss at step 8100: 0.412617\n",
      "Training accuracy: 89.5%\n",
      "Validation accuracy: 76.7%\n",
      "Loss at step 8200: 0.410844\n",
      "Training accuracy: 89.5%\n",
      "Validation accuracy: 76.7%\n",
      "Loss at step 8300: 0.409106\n",
      "Training accuracy: 89.6%\n",
      "Validation accuracy: 76.7%\n",
      "Loss at step 8400: 0.407401\n",
      "Training accuracy: 89.7%\n",
      "Validation accuracy: 76.7%\n",
      "Loss at step 8500: 0.405727\n",
      "Training accuracy: 89.7%\n",
      "Validation accuracy: 76.7%\n",
      "Loss at step 8600: 0.404086\n",
      "Training accuracy: 89.7%\n",
      "Validation accuracy: 76.7%\n",
      "Loss at step 8700: 0.402474\n",
      "Training accuracy: 89.8%\n",
      "Validation accuracy: 76.6%\n",
      "Loss at step 8800: 0.400892\n",
      "Training accuracy: 89.8%\n",
      "Validation accuracy: 76.6%\n",
      "Loss at step 8900: 0.399338\n",
      "Training accuracy: 89.8%\n",
      "Validation accuracy: 76.7%\n",
      "Loss at step 9000: 0.397812\n",
      "Training accuracy: 89.9%\n",
      "Validation accuracy: 76.7%\n",
      "Loss at step 9100: 0.396312\n",
      "Training accuracy: 90.0%\n",
      "Validation accuracy: 76.7%\n",
      "Loss at step 9200: 0.394839\n",
      "Training accuracy: 90.0%\n",
      "Validation accuracy: 76.7%\n",
      "Loss at step 9300: 0.393391\n",
      "Training accuracy: 90.0%\n",
      "Validation accuracy: 76.7%\n",
      "Loss at step 9400: 0.391967\n",
      "Training accuracy: 90.0%\n",
      "Validation accuracy: 76.7%\n",
      "Loss at step 9500: 0.390568\n",
      "Training accuracy: 90.1%\n",
      "Validation accuracy: 76.7%\n",
      "Loss at step 9600: 0.389191\n",
      "Training accuracy: 90.1%\n",
      "Validation accuracy: 76.7%\n",
      "Loss at step 9700: 0.387838\n",
      "Training accuracy: 90.2%\n",
      "Validation accuracy: 76.7%\n",
      "Loss at step 9800: 0.386506\n",
      "Training accuracy: 90.2%\n",
      "Validation accuracy: 76.7%\n",
      "Loss at step 9900: 0.385196\n",
      "Training accuracy: 90.2%\n",
      "Validation accuracy: 76.7%\n",
      "Test accuracy: 84.3%\n"
     ]
    }
   ],
   "source": [
    "num_steps = 10000\n",
    "\n",
    "def accuracy(predictions, labels):\n",
    "    # 所有预测正确的个数除以所有的预测，所得到的比例作为准确率。\n",
    "    return (100.0 * np.sum(np.argmax(predictions, 1) == np.argmax(labels, 1))\n",
    "          / predictions.shape[0])\n",
    "\n",
    "with tf.Session(graph=graph) as session:\n",
    "  # This is a one-time operation which ensures the parameters get initialized as\n",
    "  # we described in the graph: random weights for the matrix, zeros for the\n",
    "  # biases. \n",
    "  tf.global_variables_initializer().run()\n",
    "  print('Initialized')\n",
    "  for step in range(num_steps):\n",
    "    # Run the computations. We tell .run() that we want to run the optimizer,\n",
    "    # and get the loss value and the training predictions returned as numpy\n",
    "    # arrays.\n",
    "    _, l, predictions = session.run([optimizer, loss, train_prediction])\n",
    "    if (step % 100 == 0):\n",
    "      print('Loss at step %d: %f' % (step, l))\n",
    "      print('Training accuracy: %.1f%%' % accuracy(\n",
    "        predictions, train_labels[:train_subset, :]))\n",
    "      # Calling .eval() on valid_prediction is basically like calling run(), but\n",
    "      # just to get that one numpy array. Note that it recomputes all its graph\n",
    "      # dependencies.\n",
    "      print('Validation accuracy: %.1f%%' % accuracy(\n",
    "        valid_prediction.eval(), valid_labels))\n",
    "  print('Test accuracy: %.1f%%' % accuracy(test_prediction.eval(), test_labels))"
   ]
  },
  {
   "cell_type": "markdown",
   "metadata": {},
   "source": [
    "上面的优化方法使用的是gradient descent， 下面使用stochastic descent， 需要使用一个preholder，用来存储临时变量，类似于一个循环器。"
   ]
  },
  {
   "cell_type": "code",
   "execution_count": 6,
   "metadata": {
    "collapsed": true
   },
   "outputs": [],
   "source": [
    "batch_size = 128\n",
    "\n",
    "graph = tf.Graph()\n",
    "with graph.as_default():\n",
    "\n",
    "  # Input data. For the training data, we use a placeholder that will be fed\n",
    "  # at run time with a training minibatch.\n",
    "  tf_train_dataset = tf.placeholder(tf.float32,\n",
    "                                    shape=(batch_size, image_size * image_size))\n",
    "  tf_train_labels = tf.placeholder(tf.float32, shape=(batch_size, num_labels))\n",
    "  tf_valid_dataset = tf.constant(valid_dataset)\n",
    "  tf_test_dataset = tf.constant(test_dataset)\n",
    "  # train_dataset 并没有导入到placeholder？\n",
    "  # Variables.\n",
    "  weights = tf.Variable(\n",
    "    tf.truncated_normal([image_size * image_size, num_labels]))\n",
    "  biases = tf.Variable(tf.zeros([num_labels]))\n",
    "  \n",
    "  # Training computation.\n",
    "  logits = tf.matmul(tf_train_dataset, weights) + biases\n",
    "  loss = tf.reduce_mean(\n",
    "    tf.nn.softmax_cross_entropy_with_logits(labels=tf_train_labels, logits=logits))\n",
    "  \n",
    "  # Optimizer.\n",
    "  optimizer = tf.train.GradientDescentOptimizer(0.5).minimize(loss)\n",
    "  \n",
    "  # Predictions for the training, validation, and test data.\n",
    "  train_prediction = tf.nn.softmax(logits)\n",
    "  valid_prediction = tf.nn.softmax(\n",
    "    tf.matmul(tf_valid_dataset, weights) + biases)\n",
    "  test_prediction = tf.nn.softmax(tf.matmul(tf_test_dataset, weights) + biases)\n"
   ]
  },
  {
   "cell_type": "code",
   "execution_count": 7,
   "metadata": {},
   "outputs": [
    {
     "name": "stdout",
     "output_type": "stream",
     "text": [
      "Initialized\n",
      "Minibatch loss at step 0: 15.462795\n",
      "Minibatch accuracy: 12.5%\n",
      "Validation accuracy: 14.7%\n",
      "Minibatch loss at step 500: 2.129686\n",
      "Minibatch accuracy: 75.8%\n",
      "Validation accuracy: 75.5%\n",
      "Minibatch loss at step 1000: 1.089851\n",
      "Minibatch accuracy: 78.1%\n",
      "Validation accuracy: 76.9%\n",
      "Minibatch loss at step 1500: 1.253541\n",
      "Minibatch accuracy: 77.3%\n",
      "Validation accuracy: 77.0%\n",
      "Minibatch loss at step 2000: 0.886859\n",
      "Minibatch accuracy: 78.1%\n",
      "Validation accuracy: 77.3%\n",
      "Minibatch loss at step 2500: 0.829983\n",
      "Minibatch accuracy: 78.1%\n",
      "Validation accuracy: 78.4%\n",
      "Minibatch loss at step 3000: 1.205320\n",
      "Minibatch accuracy: 73.4%\n",
      "Validation accuracy: 78.4%\n",
      "Test accuracy: 85.6%\n"
     ]
    }
   ],
   "source": [
    "num_steps = 3001\n",
    "\n",
    "with tf.Session(graph=graph) as session:\n",
    "  tf.global_variables_initializer().run()\n",
    "  print(\"Initialized\")\n",
    "  for step in range(num_steps):\n",
    "    # Pick an offset within the training data, which has been randomized.\n",
    "    # Note: we could use better randomization across epochs.\n",
    "    offset = (step * batch_size) % (train_labels.shape[0] - batch_size) # 这一步的offset的作用是什么？ \n",
    "    # 貌似想使用随机化。\n",
    "    # Generate a minibatch.\n",
    "    batch_data = train_dataset[offset:(offset + batch_size), :] # 以batchsize作为步伐来遍历整个训练集\n",
    "    batch_labels = train_labels[offset:(offset + batch_size), :]\n",
    "    # Prepare a dictionary telling the session where to feed the minibatch.\n",
    "    # The key of the dictionary is the placeholder node of the graph to be fed,\n",
    "    # and the value is the numpy array to feed to it.\n",
    "    feed_dict = {tf_train_dataset : batch_data, tf_train_labels : batch_labels}\n",
    "    _, l, predictions = session.run(\n",
    "      [optimizer, loss, train_prediction], feed_dict=feed_dict)\n",
    "    if (step % 500 == 0):\n",
    "      print(\"Minibatch loss at step %d: %f\" % (step, l))\n",
    "      print(\"Minibatch accuracy: %.1f%%\" % accuracy(predictions, batch_labels))\n",
    "      print(\"Validation accuracy: %.1f%%\" % accuracy(\n",
    "        valid_prediction.eval(), valid_labels))\n",
    "  print(\"Test accuracy: %.1f%%\" % accuracy(test_prediction.eval(), test_labels))"
   ]
  },
  {
   "cell_type": "markdown",
   "metadata": {
    "slideshow": {
     "slide_type": "-"
    }
   },
   "source": [
    "# 一步步解析"
   ]
  },
  {
   "cell_type": "code",
   "execution_count": 8,
   "metadata": {},
   "outputs": [
    {
     "data": {
      "text/plain": [
       "(500000, 784)"
      ]
     },
     "execution_count": 8,
     "metadata": {},
     "output_type": "execute_result"
    }
   ],
   "source": [
    "train_dataset.shape"
   ]
  },
  {
   "cell_type": "markdown",
   "metadata": {},
   "source": [
    "Turn the logistic regression example with SGD into a 1-hidden layer neural network with rectified linear units nn.relu() and 1024 hidden nodes. This model should improve your validation / test accuracy."
   ]
  },
  {
   "cell_type": "code",
   "execution_count": 10,
   "metadata": {
    "collapsed": true
   },
   "outputs": [],
   "source": [
    "a = tf.constant([1.0, 2.0], name='a')"
   ]
  },
  {
   "cell_type": "code",
   "execution_count": 11,
   "metadata": {
    "collapsed": true
   },
   "outputs": [],
   "source": [
    "b = tf.constant([3.0, 4.0], name='b')"
   ]
  },
  {
   "cell_type": "code",
   "execution_count": 12,
   "metadata": {
    "collapsed": true
   },
   "outputs": [],
   "source": [
    "result = a + b"
   ]
  },
  {
   "cell_type": "code",
   "execution_count": 13,
   "metadata": {},
   "outputs": [
    {
     "data": {
      "text/plain": [
       "<tf.Tensor 'add:0' shape=(2,) dtype=float32>"
      ]
     },
     "execution_count": 13,
     "metadata": {},
     "output_type": "execute_result"
    }
   ],
   "source": [
    "result"
   ]
  },
  {
   "cell_type": "code",
   "execution_count": 14,
   "metadata": {},
   "outputs": [
    {
     "data": {
      "text/plain": [
       "<tf.Tensor 'add_1:0' shape=(2,) dtype=float32>"
      ]
     },
     "execution_count": 14,
     "metadata": {},
     "output_type": "execute_result"
    }
   ],
   "source": [
    "a+b"
   ]
  },
  {
   "cell_type": "code",
   "execution_count": 17,
   "metadata": {},
   "outputs": [],
   "source": [
    "with tf.Session() as sess:\n",
    "    sess.run(result)"
   ]
  },
  {
   "cell_type": "code",
   "execution_count": 19,
   "metadata": {
    "collapsed": true
   },
   "outputs": [],
   "source": [
    "sess = tf.Session()"
   ]
  },
  {
   "cell_type": "code",
   "execution_count": 20,
   "metadata": {
    "collapsed": true
   },
   "outputs": [],
   "source": [
    "sess.close()"
   ]
  },
  {
   "cell_type": "code",
   "execution_count": 22,
   "metadata": {
    "collapsed": true
   },
   "outputs": [],
   "source": [
    "sess.close()"
   ]
  },
  {
   "cell_type": "code",
   "execution_count": 23,
   "metadata": {},
   "outputs": [
    {
     "data": {
      "text/plain": [
       "array([ 4.,  6.], dtype=float32)"
      ]
     },
     "execution_count": 23,
     "metadata": {},
     "output_type": "execute_result"
    }
   ],
   "source": [
    "sess.run(result)"
   ]
  }
 ],
 "metadata": {
  "celltoolbar": "Raw Cell Format",
  "kernelspec": {
   "display_name": "Python [conda env:obspy]",
   "language": "python",
   "name": "conda-env-obspy-py"
  },
  "language_info": {
   "codemirror_mode": {
    "name": "ipython",
    "version": 3
   },
   "file_extension": ".py",
   "mimetype": "text/x-python",
   "name": "python",
   "nbconvert_exporter": "python",
   "pygments_lexer": "ipython3",
   "version": "3.6.1"
  }
 },
 "nbformat": 4,
 "nbformat_minor": 2
}
